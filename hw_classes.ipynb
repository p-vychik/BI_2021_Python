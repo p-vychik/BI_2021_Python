{
 "cells": [
  {
   "cell_type": "markdown",
   "metadata": {},
   "source": [
    "## 1. простой класс, реализующий треугольник"
   ]
  },
  {
   "cell_type": "code",
   "execution_count": 131,
   "metadata": {},
   "outputs": [
    {
     "data": {
      "text/plain": [
       "30.59411708155671"
      ]
     },
     "execution_count": 131,
     "metadata": {},
     "output_type": "execute_result"
    }
   ],
   "source": [
    "from math import sqrt\n",
    "\n",
    "class IncorrectSides(Exception):\n",
    "    pass\n",
    "\n",
    "\n",
    "class triangle:\n",
    "    \n",
    "    \n",
    "    def __init__(self, a, b, c):\n",
    "        try:\n",
    "            if (a + b < c) or (a + c < b) or (b + c < a):\n",
    "                raise IncorrectSides\n",
    "            else:\n",
    "                self.a = a\n",
    "                self.b = b\n",
    "                self.c = c\n",
    "        except IncorrectSides:\n",
    "            print(\"triangle doesn't exist\")\n",
    "            \n",
    "    def square(self):\n",
    "        p = self.perimeter() / 2\n",
    "        return sqrt(p * (p - self.a)\n",
    "                   * (p - self.b)\n",
    "                   * (p - self.c))\n",
    "    \n",
    "    def perimeter(self):\n",
    "        return self.a + self.b + self.c\n",
    "\n",
    "t1 = triangle(7, 9, 10)\n",
    "t1.square()"
   ]
  },
  {
   "cell_type": "markdown",
   "metadata": {},
   "source": [
    "## 2. класс, описывающий РНК"
   ]
  },
  {
   "cell_type": "code",
   "execution_count": 17,
   "metadata": {},
   "outputs": [],
   "source": [
    "from Bio.Seq import Seq\n",
    "\n",
    "\n",
    "class IncorrectBases(Exception):\n",
    "    pass\n",
    "\n",
    "\n",
    "class SeqRNA:\n",
    "    valid_bases = set('AUGC')\n",
    "    \n",
    "    \n",
    "    def __init__(self, input_seq=''):\n",
    "        try:\n",
    "            if not set(input_seq.upper()).issubset(self.valid_bases):\n",
    "                raise IncorrectBases\n",
    "            else:\n",
    "                self.seq = Seq(input_seq.upper())\n",
    "        except IncorrectBases:\n",
    "            print('RNA seq contains non legal bases')\n",
    "        \n",
    "    \n",
    "    def _translate(self):        \n",
    "        return self.seq.translate()\n",
    "\n",
    "\n",
    "    def _reverse_transcribe(self):        \n",
    "        return self.seq.back_transcribe().reverse_complement()\n"
   ]
  },
  {
   "cell_type": "markdown",
   "metadata": {},
   "source": [
    "## 3. множество, отфильтровывающее неположительные числа"
   ]
  },
  {
   "cell_type": "code",
   "execution_count": 21,
   "metadata": {},
   "outputs": [
    {
     "data": {
      "text/plain": [
       "{1, 2, 3, 4, 6}"
      ]
     },
     "execution_count": 21,
     "metadata": {},
     "output_type": "execute_result"
    }
   ],
   "source": [
    "class PositiveSet(set):\n",
    "    \n",
    "\n",
    "    def __init__(self, *args):\n",
    "        self.number_set = {num for num in args if num > 0}\n",
    "   \n",
    "\n",
    "    def __repr__(self):\n",
    "        return str(self.number_set)\n",
    "\n",
    "\n",
    "    def add(self, elem):\n",
    "        if elem > 0:\n",
    "            self.number_set.add(elem)"
   ]
  },
  {
   "cell_type": "markdown",
   "metadata": {},
   "source": [
    "## 4. Статистика fasta - файлов"
   ]
  },
  {
   "cell_type": "code",
   "execution_count": 121,
   "metadata": {},
   "outputs": [
    {
     "data": {
      "text/plain": [
       "'/home/aither/temp/dna_motifs.fasta'"
      ]
     },
     "execution_count": 121,
     "metadata": {},
     "output_type": "execute_result"
    }
   ],
   "source": [
    "import os.path\n",
    "import Bio\n",
    "import matplotlib.pyplot as plt\n",
    "import numpy as np\n",
    "\n",
    "class IncorrectPath(Exception):\n",
    "    pass\n",
    "\n",
    "\n",
    "def print(arg):\n",
    "    return arg.fasta_path\n",
    "\n",
    "\n",
    "class FastaStats:\n",
    "    def __init__(self, input_path):\n",
    "        try:\n",
    "            if not os.path.isfile:\n",
    "                raise IncorrectPath\n",
    "            else:\n",
    "                self.fasta_path = input_path\n",
    "        except IncorrectPath:\n",
    "            print(\"File doesn'exist\")\n",
    "\n",
    "\n",
    "    def count_entries(self):\n",
    "        with open(self.fasta_path):\n",
    "            seqs = list(SeqIO.parse(self.fasta_path))\n",
    "            return len(seqs)\n",
    "\n",
    "\n",
    "    def hist_lengths(self):\n",
    "        with open(self.fasta_path):\n",
    "            entries = list(SeqIO.parse(self.fasta_path, \"fasta\"))\n",
    "            lengths = np.array([len(entry.seq) for entry in entries])\n",
    "            if lengths.shape[0]:\n",
    "                labels, counts = np.unique(lengths, return_counts=True)\n",
    "                plt.bar(range(len(labels)), counts, align='center')\n",
    "                plt.xticks(range(len(labels)), labels)              \n",
    "                plt.show()\n",
    "                \n",
    "    def count_gc(self):\n",
    "        with open(self.fasta_path):\n",
    "            entries = list(SeqIO.parse(self.fasta_path, \"fasta\"))\n",
    "            lengths = np.array([((entry.seq.upper().count(\"G\")) \n",
    "                                + (entry.seq.upper().count(\"C\")))\n",
    "                                / len(entry.seq) for entry in entries])\n",
    "            return round((np.average(lengths) * 100), 2)\n",
    "\n",
    "    \n",
    "    def __repr__(self):\n",
    "        return str(self.fasta_path)\n",
    "\n",
    "\n",
    "    def fourmers_count(self):\n",
    "        fmers = {}\n",
    "        with open(self.fasta_path):\n",
    "            entries = list(SeqIO.parse(self.fasta_path, \"fasta\"))\n",
    "            for entry in entries:\n",
    "                seq = str(entry.seq)\n",
    "                for i in range(len(seq) - 4 + 1):\n",
    "                    fmer = seq[i:i + 4]\n",
    "                    fmers[fmer] = fmers.get(fmer, 0) + 1\n",
    "        if fmers.items():\n",
    "            fmers = dict(sorted(fmers.items(), key=lambda x: x[1], reverse=True))\n",
    "            labels, counts = list(fmers.keys()), list(fmers.values())\n",
    "            plt.rcParams[\"figure.figsize\"] = [37.50, 4.50]\n",
    "            plt.rcParams[\"figure.autolayout\"] = True\n",
    "            plt.tick_params(axis='x', which='major', pad=10)\n",
    "            plt.bar(range(len(labels)), counts, align='center')\n",
    "            plt.xticks(range(len(labels)), labels, rotation='vertical')\n",
    "            plt.xlabel(\"X-axis\", labelpad=10)            \n",
    "            plt.show()"
   ]
  }
 ],
 "metadata": {
  "kernelspec": {
   "display_name": "Python 3 (ipykernel)",
   "language": "python",
   "name": "python3"
  },
  "language_info": {
   "codemirror_mode": {
    "name": "ipython",
    "version": 3
   },
   "file_extension": ".py",
   "mimetype": "text/x-python",
   "name": "python",
   "nbconvert_exporter": "python",
   "pygments_lexer": "ipython3",
   "version": "3.8.10"
  }
 },
 "nbformat": 4,
 "nbformat_minor": 4
}
