{
 "cells": [
  {
   "cell_type": "code",
   "execution_count": 1,
   "metadata": {},
   "outputs": [],
   "source": [
    "import sqlite3\n",
    "import re\n",
    "from pathlib import Path\n",
    "import csv\n",
    "import sys"
   ]
  },
  {
   "cell_type": "markdown",
   "metadata": {},
   "source": [
    "## check tables structure"
   ]
  },
  {
   "cell_type": "code",
   "execution_count": 2,
   "metadata": {},
   "outputs": [
    {
     "name": "stdout",
     "output_type": "stream",
     "text": [
      ",dna_chip_id,breed,sex\n",
      "0,202290551164R09C01,Д,Хр\n",
      "1,202341831114R02C01,Д,Хр\n",
      "2,202341831114R03C01,Д,Хр\n",
      "3,202341831114R04C01,Д,Хр\n",
      "4,202290551140R01C01,Д,Хр\n",
      "5,202341831114R05C01,Д,Хр\n",
      "6,202290551140R03C01,Д,Хр\n",
      "7,202290551140R05C01,Д,Хр\n",
      "8,202341831114R07C01,Д,Хр\n",
      ",SNP Name,SNP Index,SNP Aux,Sample ID,SNP,Allele1 - Top,Allele2 - Top,Allele1 - Forward,Allele2 - Forward,Allele1 - AB,Allele2 - AB,Chr,Position,GC Score,GT Score,Theta,R,B Allele Freq,Log R Ratio\n",
      "0,1_10573221,1,0,202341831114R01C01,[T/C],-,-,-,-,-,-,1,10573221,0.0,0.0,0.942,0.413,1.0,0.40399999999999997\n",
      "1,1_10673082,2,0,202341831114R01C01,[T/C],A,A,T,T,A,A,1,10673082,0.8272,0.8076,0.039,0.968,0.0,0.3017\n",
      "2,1_10723065,3,0,202341831114R01C01,[A/G],A,A,T,T,A,A,1,10723065,0.8316,0.8107,0.011,1.577,0.0,0.0388\n",
      "3,1_11337555,4,0,202341831114R01C01,[A/G],A,A,T,T,A,A,1,11337555,0.3781,0.7925,0.045,1.104,0.0,0.2761\n",
      "4,1_11407894,5,0,202341831114R01C01,[A/G],G,G,G,G,B,B,1,11407894,0.9038,0.867,0.983,1.122,0.9994,0.0022\n",
      "5,1_11426075,6,0,202341831114R01C01,[T/C],A,A,T,T,A,A,1,11426075,0.9043,0.8675,0.034,0.912,0.0,0.1083\n",
      "6,1_11445382,7,0,202341831114R01C01,[T/C],A,A,T,T,A,A,1,11445382,0.2429,0.6461,0.17600000000000002,2.5980000000000003,0.0021,-0.0305\n",
      "7,1_135128255,8,0,202341831114R01C01,[A/G],-,-,-,-,-,-,1,135128255,0.0,0.0,0.568,2.929,0.9972,0.0268\n",
      "8,1_13996200,9,0,202341831114R01C01,[T/C],A,A,T,T,A,A,1,13996200,0.8237,0.8053,0.076,0.805,0.0,0.293\n"
     ]
    }
   ],
   "source": [
    "!head data/metadata.csv\n",
    "!head data/genstudio.csv"
   ]
  },
  {
   "cell_type": "markdown",
   "metadata": {},
   "source": [
    "## create lists with table build instructions "
   ]
  },
  {
   "cell_type": "code",
   "execution_count": 48,
   "metadata": {
    "collapsed": true
   },
   "outputs": [],
   "source": [
    "base_path = \"/home/aither/institute-for-bioinformatics/python2021/BI_2021_Python/\"\n",
    "csv_files_names = {\n",
    "    f\"{base_path}metadata.csv\": [\"CREATE TABLE IF NOT EXISTS meta(\",\n",
    "            \"ind INTEGER,\",\n",
    "            \"dna_chip_id TEXT PRIMARY KEY,\",\n",
    "            \"breed TEXT,\",\n",
    "            \"sex TEXT)\"],\n",
    "    f\"{base_path}genstudio.csv\": [\"CREATE TABLE IF NOT EXISTS genstudio(\",\n",
    "                \"ind INTEGER PRIMARY KEY,\",\n",
    "                \"SNP_name TEXT,\",\n",
    "                \"SNP_Index INTEGER,\",\n",
    "                \"SNP_Aux INTEGER,\",\n",
    "                \"Sample_ID TEXT NOT NULL REFERENCES meta(dna_chip_id),\",\n",
    "                \"SNP TEXT,\",\n",
    "                \"Allele1_Top TEXT,\",\n",
    "                \"Allele2_Top TEXT,\",\n",
    "                \"Allele1_Forward TEXT,\",\n",
    "                \"Allele2_Forward TEXT,\",\n",
    "                \"Allele1_AB TEXT,\",\n",
    "                \"Allele2_AB TEXT,\",\n",
    "                \"Chr INTEGER,\",\n",
    "                \"Position INTEGER,\",\n",
    "                \"GC_Score REAL,\",\n",
    "                \"GT_Score REAL,\",\n",
    "                \"Theta REAL,\",\n",
    "                \"R REAL,\",\n",
    "                \"B_Allele_Freq REAL,\",\n",
    "                  \"Log_R_Ratio REAL)\",        \n",
    "    ]\n",
    "}"
   ]
  },
  {
   "cell_type": "markdown",
   "metadata": {},
   "source": [
    "## functions to fill db with table data"
   ]
  },
  {
   "cell_type": "code",
   "execution_count": 93,
   "metadata": {
    "collapsed": true
   },
   "outputs": [],
   "source": [
    "def create_table(tables, db, connection):\n",
    "    for _, query in tables.items():        \n",
    "        connection.execute(\"\".join(query))\n",
    "    connection.commit\n",
    "\n",
    "\n",
    "def get_columns(query):\n",
    "    columns = []\n",
    "    for _, column in enumerate(query[1:]):\n",
    "        columns.append(column.split(' ')[0])\n",
    "    return columns\n",
    "\n",
    "\n",
    "def fill_table(query, values, connection):\n",
    "    sub_values = ('?, ' * (len(query)-1))[0:-2]\n",
    "    match = re.search(r\"\\w+(?=\\()\", query[0])\n",
    "    if match:\n",
    "        table_name = match.group(0)\n",
    "        columns = \", \".join(get_columns(query))\n",
    "        sql_code = f\"INSERT INTO {table_name}({columns}) VALUES ({sub_values})\"\n",
    "        try:\n",
    "            if len(values)>1:\n",
    "                connection.executemany(sql_code, (values))\n",
    "            else:\n",
    "                connection.execute(sql_code, (values))\n",
    "            connection.commit()\n",
    "        except sqlite3.IntegrityError:\n",
    "            print(\"Unexpected error:\", sys.exc_info()[0])\n",
    "\n",
    "\n",
    "def csv_to_db(csv_path_tables, db_name, delimiter=\",\"):\n",
    "    connection = sqlite3.connect(db_name)\n",
    "    connection.execute(\"PRAGMA foreign_keys = ON;\")\n",
    "    create_table(csv_path_tables, db_name, connection)\n",
    "    for csv_path, table_query in csv_path_tables.items():\n",
    "        if Path(csv_path).is_file():\n",
    "            with open(csv_path, 'r') as f:\n",
    "                content = csv.reader(f, delimiter=delimiter)\n",
    "                batch = []\n",
    "                for i, row in enumerate(content):\n",
    "                    if i:\n",
    "                        batch.append(row)\n",
    "                        if len(batch) == 50000:\n",
    "                            fill_table(table_query, batch, connection)\n",
    "                            batch = []\n",
    "                if batch:\n",
    "                    fill_table(table_query, batch, connection)\n",
    "    connection.close()"
   ]
  },
  {
   "cell_type": "code",
   "execution_count": 92,
   "metadata": {
    "collapsed": true
   },
   "outputs": [
    {
     "name": "stdout",
     "output_type": "stream",
     "text": [
      "5.33 s ± 168 ms per loop (mean ± std. dev. of 7 runs, 1 loop each)\n"
     ]
    }
   ],
   "source": [
    "%%timeit \n",
    "csv_to_db(csv_files_names, \"genlibrary.db\")"
   ]
  },
  {
   "cell_type": "code",
   "execution_count": 3,
   "metadata": {},
   "outputs": [
    {
     "name": "stdout",
     "output_type": "stream",
     "text": [
      "[('202341831114R01C01', 8), ('202341831114R01C02', 8), ('202341831114R02C01', 8), ('202341831114R02C02', 8), ('202341831114R03C01', 8), ('202341831114R03C02', 8), ('202341831114R04C01', 8), ('202341831114R04C02', 8), ('202341831114R05C01', 8), ('202341831114R05C02', 8), ('202341831114R06C01', 8), ('202341831114R06C02', 8), ('202341831114R07C01', 8), ('202341831114R07C02', 8), ('202341831114R08C01', 8), ('202341831114R08C02', 8), ('202341831114R09C01', 8), ('202341831114R09C02', 8), ('202341831114R10C01', 8), ('202341831114R10C02', 8), ('202341831114R11C01', 8), ('202341831114R11C02', 8), ('202341831114R12C01', 8), ('202341831114R12C02', 8), ('202341831127R01C01', 8), ('202341831127R01C02', 8), ('202341831127R02C01', 8), ('202341831127R02C02', 8), ('202341831127R03C01', 8), ('202341831127R03C02', 8)]\n",
      "[(840, '202341831127R04C02', 'Д', 'Y')]\n"
     ]
    }
   ],
   "source": [
    "def get_distinct_values(group_var, dist_var, table_name, connect):\n",
    "    sql_code = f\"SELECT {group_var}, COUNT(DISTINCT({dist_var})) FROM {table_name} GROUP BY {group_var}\"\n",
    "    res = connect.execute(sql_code).fetchall()\n",
    "    return res\n",
    "\n",
    "\n",
    "\n",
    "def update_table(table_name, col_id, val, condition, connection):\n",
    "    sql_code = f\"UPDATE {table_name} SET {col_id} = '{val}' WHERE {condition}\"\n",
    "    connection.execute(sql_code)\n",
    "    connection.commit()\n",
    "\n",
    "\n",
    "connect = sqlite3.connect(\"genlibrary.db\")\n",
    "# count distinct SNPs for all Sample_id\n",
    "res = get_distinct_values(\"Sample_ID\", \"SNP\", \"genstudio\", connect)\n",
    "print(res)\n",
    "# update table meta - change sex for specific dna_chip_id\n",
    "update_table(\"meta\", \"sex\" , \"Y\", \"dna_chip_id = '202341831127R04C02'\", connect)\n",
    "# check if updates are saved\n",
    "sql_code = \"SELECT * FROM meta WHERE sex = 'Y'\"\n",
    "res = connect.execute(sql_code).fetchall()\n",
    "print(res)\n",
    "connect.close()"
   ]
  }
 ],
 "metadata": {
  "kernelspec": {
   "display_name": "Python 3 (ipykernel)",
   "language": "python",
   "name": "python3"
  },
  "language_info": {
   "codemirror_mode": {
    "name": "ipython",
    "version": 3
   },
   "file_extension": ".py",
   "mimetype": "text/x-python",
   "name": "python",
   "nbconvert_exporter": "python",
   "pygments_lexer": "ipython3",
   "version": "3.8.10"
  }
 },
 "nbformat": 4,
 "nbformat_minor": 4
}
